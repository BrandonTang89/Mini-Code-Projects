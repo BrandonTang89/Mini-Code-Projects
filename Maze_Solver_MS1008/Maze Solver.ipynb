{
 "cells": [
  {
   "cell_type": "markdown",
   "metadata": {},
   "source": [
    "# Maze Solver 101\n",
    "## Import Libray and Maze"
   ]
  },
  {
   "cell_type": "code",
   "execution_count": 1,
   "metadata": {},
   "outputs": [],
   "source": [
    "import numpy as np\n",
    "import matplotlib.pyplot as plt\n",
    "\n",
    "maze_file = open('maze.txt', 'r')\n",
    "maze_cells_ = list(maze_file.readlines())\n",
    "maze_cells_evaled = [eval(i) for i in maze_cells_]\n",
    "\n",
    "maze_l = int((len(maze_cells_evaled))**0.5) #maze length\n",
    "maze = []\n",
    "for r in range(maze_l):\n",
    "    maze_row = []\n",
    "    for c in range(maze_l):\n",
    "        maze_row.append(maze_cells_evaled[maze_l * r + c])\n",
    "    \n",
    "    maze.append(maze_row)\n",
    "maze = [*(zip(*maze))] # tranpose maze to ensure it is in the correct orientation\n",
    "#print(maze)"
   ]
  },
  {
   "cell_type": "code",
   "execution_count": 2,
   "metadata": {},
   "outputs": [
    {
     "name": "stdout",
     "output_type": "stream",
     "text": [
      "(51, 51)\n"
     ]
    },
    {
     "data": {
      "image/png": "[encoded data removed]",
      "text/plain": [
       "<Figure size 432x288 with 1 Axes>"
      ]
     },
     "metadata": {
      "needs_background": "light"
     },
     "output_type": "display_data"
    }
   ],
   "source": [
    "maze_arr = np.asarray(maze)\n",
    "print(maze_arr.shape)\n",
    "plt.imshow(maze_arr)\n",
    "plt.show()"
   ]
  },
  {
   "cell_type": "markdown",
   "metadata": {},
   "source": [
    "## Breadth First Search on Maze\n",
    "Since the graph is unweighted, we ca use BFS to get the shortest distance from the source to all cells."
   ]
  },
  {
   "cell_type": "code",
   "execution_count": 3,
   "metadata": {},
   "outputs": [
    {
     "data": {
      "image/png": "[encoded data removed]",
      "text/plain": [
       "<Figure size 432x288 with 1 Axes>"
      ]
     },
     "metadata": {
      "needs_background": "light"
     },
     "output_type": "display_data"
    }
   ],
   "source": [
    "# The path is empty if the maze value is 0\n",
    "s_c = 1 # starting squares\n",
    "s_r = 47\n",
    "assert(maze_arr[s_r][s_c] == False) #make sure the starting square is empty\n",
    "\n",
    "dist = np.empty((51,51), int);\n",
    "for i in range(51):\n",
    "    for j in range(51):\n",
    "        dist[i][j] = -1\n",
    "q = [] #queue\n",
    "q.append((s_r, s_c))\n",
    "dist[s_r][s_c] = 0;\n",
    "\n",
    "dc = [0, 0, -1, 1]\n",
    "dr = [-1, 1, 0, 0]\n",
    "\n",
    "while len(q) > 0:\n",
    "    # print(q[0])\n",
    "    (r, c) = q[0]\n",
    "    q.pop(0)\n",
    "\n",
    "    for i in range(4):\n",
    "        nc = c + dc[i]\n",
    "        nr = r + dr[i]\n",
    "        \n",
    "        if ((c < 0) or (c >= 51) or (r < 0) or (r >= 51)):\n",
    "            continue\n",
    "        \n",
    "        if ((dist[nr][nc] != -1) or (maze_arr[nr][nc] == True)):\n",
    "            continue\n",
    "\n",
    "        dist[nr][nc] = dist[r][c] + 1\n",
    "        q.append((nr, nc))\n",
    "\n",
    "# print(dist)\n",
    "plt.imshow(dist)\n",
    "plt.show()\n"
   ]
  },
  {
   "cell_type": "markdown",
   "metadata": {},
   "source": [
    "## Backtracking to Find Path\n",
    "\n",
    "We start from the end and keep moving to squares 1 distance closer to the source!"
   ]
  },
  {
   "cell_type": "code",
   "execution_count": 4,
   "metadata": {},
   "outputs": [],
   "source": [
    "t_r = 12\n",
    "t_c = 40\n",
    "\n",
    "r = t_r\n",
    "c = t_c\n",
    "\n",
    "if maze_arr[t_r][t_c] == True:\n",
    "    print(f\"Starting at {t_r}, {t_c} is invalid!\")\n",
    "    assert(maze_arr[t_r][t_c] == False)\n",
    "\n",
    "path = [(r,c)]\n",
    "\n",
    "while (r != s_r) or (c != s_c):\n",
    "    for i in range(4):\n",
    "        nc = c + dc[i]\n",
    "        nr = r + dr[i]\n",
    "\n",
    "        if ((nc < 0) or (nc >= 51) or (nr < 0) or (nr >= 51)):\n",
    "                continue\n",
    "        \n",
    "        if (dist[nr][nc] == dist[r][c] - 1):\n",
    "            r = nr\n",
    "            c = nc\n",
    "            path.append((r,c))\n",
    "            break\n",
    "\n",
    "# print(path)\n"
   ]
  },
  {
   "cell_type": "code",
   "execution_count": 5,
   "metadata": {},
   "outputs": [
    {
     "data": {
      "image/png": "[encoded data removed]",
      "text/plain": [
       "<Figure size 432x288 with 1 Axes>"
      ]
     },
     "metadata": {
      "needs_background": "light"
     },
     "output_type": "display_data"
    },
    {
     "data": {
      "image/png": "[encoded data removed]",
      "text/plain": [
       "<Figure size 432x288 with 1 Axes>"
      ]
     },
     "metadata": {
      "needs_background": "light"
     },
     "output_type": "display_data"
    }
   ],
   "source": [
    "maze_path = np.copy(maze_arr).astype(float)\n",
    "for i in range(51):\n",
    "    for j in range(51):\n",
    "        if maze_path[i][j]:\n",
    "            maze_path[i][j] = 0.3\n",
    "        else:\n",
    "            maze_path[i][j] = 0\n",
    "\n",
    "path = path[::-1]  \n",
    "for i, (r, c) in enumerate(path):\n",
    "    maze_path[r][c] = 0.5 + (0.5)*(i/len(path))\n",
    "\n",
    "plt.imshow(maze_arr)\n",
    "plt.show()\n",
    "\n",
    "plt.imshow(maze_path)\n",
    "plt.show()"
   ]
  }
 ],
 "metadata": {
  "interpreter": {
   "hash": "916dbcbb3f70747c44a77c7bcd40155683ae19c65e1c03b4aa3499c5328201f1"
  },
  "kernelspec": {
   "display_name": "Python 3 (ipykernel)",
   "language": "python",
   "name": "python3"
  },
  "language_info": {
   "codemirror_mode": {
    "name": "ipython",
    "version": 3
   },
   "file_extension": ".py",
   "mimetype": "text/x-python",
   "name": "python",
   "nbconvert_exporter": "python",
   "pygments_lexer": "ipython3",
   "version": "3.8.10"
  }
 },
 "nbformat": 4,
 "nbformat_minor": 2
}
